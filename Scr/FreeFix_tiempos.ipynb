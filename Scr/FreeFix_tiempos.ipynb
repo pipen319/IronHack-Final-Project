{
 "cells": [
  {
   "cell_type": "markdown",
   "metadata": {},
   "source": [
    "# FreeFix"
   ]
  },
  {
   "cell_type": "code",
   "execution_count": 3,
   "metadata": {},
   "outputs": [
    {
     "name": "stdout",
     "output_type": "stream",
     "text": [
      "CPU times: user 42 µs, sys: 1e+03 ns, total: 43 µs\n",
      "Wall time: 45.1 µs\n"
     ]
    }
   ],
   "source": [
    "%%time\n",
    "\n",
    "import pandas as pd \n",
    "import numpy as np \n",
    "import matplotlib.pyplot as plt\n",
    "import seaborn as sns\n",
    "import re\n",
    "from scipy import spatial\n",
    "from IPython.display import Image\n",
    "import warnings\n",
    "warnings.filterwarnings('ignore')\n",
    "from wordcloud import WordCloud, STOPWORDS #used to generate world cloud\n",
    "import json\n",
    "from fuzzywuzzy import fuzz\n",
    "from fuzzywuzzy import process"
   ]
  },
  {
   "cell_type": "code",
   "execution_count": 4,
   "metadata": {},
   "outputs": [
    {
     "ename": "NameError",
     "evalue": "name 'pd' is not defined",
     "output_type": "error",
     "traceback": [
      "\u001b[0;31m---------------------------------------------------------------------------\u001b[0m",
      "\u001b[0;31mNameError\u001b[0m                                 Traceback (most recent call last)",
      "\u001b[0;32m<timed exec>\u001b[0m in \u001b[0;36m<module>\u001b[0;34m\u001b[0m\n",
      "\u001b[0;31mNameError\u001b[0m: name 'pd' is not defined"
     ]
    }
   ],
   "source": [
    "%%time\n",
    "\n",
    "df_ratings = pd.read_csv(\"../Input/ratings.csv\")\n",
    "df_links = pd.read_csv(\"../Input/links.csv\")\n",
    "df_tags = pd.read_csv(\"../Input/tags.csv\")\n",
    "df_movies = pd.read_csv(\"../Input/movies.csv\")"
   ]
  },
  {
   "cell_type": "code",
   "execution_count": 5,
   "metadata": {},
   "outputs": [
    {
     "ename": "NameError",
     "evalue": "name 'df_tags' is not defined",
     "output_type": "error",
     "traceback": [
      "\u001b[0;31m---------------------------------------------------------------------------\u001b[0m",
      "\u001b[0;31mNameError\u001b[0m                                 Traceback (most recent call last)",
      "\u001b[0;32m<ipython-input-5-bca416d0a89a>\u001b[0m in \u001b[0;36m<module>\u001b[0;34m\u001b[0m\n\u001b[0;32m----> 1\u001b[0;31m \u001b[0mdf_tags\u001b[0m\u001b[0;34m.\u001b[0m\u001b[0mhead\u001b[0m\u001b[0;34m(\u001b[0m\u001b[0;34m)\u001b[0m\u001b[0;34m\u001b[0m\u001b[0;34m\u001b[0m\u001b[0m\n\u001b[0m",
      "\u001b[0;31mNameError\u001b[0m: name 'df_tags' is not defined"
     ]
    }
   ],
   "source": [
    "df_tags.head()"
   ]
  },
  {
   "cell_type": "code",
   "execution_count": 4,
   "metadata": {},
   "outputs": [
    {
     "name": "stdout",
     "output_type": "stream",
     "text": [
      "CPU times: user 381 ms, sys: 67.4 ms, total: 448 ms\n",
      "Wall time: 447 ms\n"
     ]
    }
   ],
   "source": [
    "%%time\n",
    "\n",
    "user_ratings_total = df_ratings.groupby(['userId']).agg({'rating': [np.size, np.mean]})\n",
    "user_ratings_total.reset_index(inplace=True)  \n",
    "\n",
    "movie_ratings_total = df_ratings.groupby(['movieId']).agg({'rating': [np.size, np.mean]})\n",
    "movie_ratings_total.reset_index(inplace=True)\n",
    "\n",
    "df_movies_final = df_movies.merge(movie_ratings_total, left_on='movieId', right_on='movieId', how='left')\n",
    "df_movies_final.columns = ['movieId', 'title', 'genres', 'rating_count', 'rating_avg']"
   ]
  },
  {
   "cell_type": "code",
   "execution_count": 5,
   "metadata": {},
   "outputs": [],
   "source": [
    "def get_year(title):\n",
    "    result = re.search(r'\\(\\d{4}\\)', title)\n",
    "    if result:\n",
    "        found = result.group(0).strip('(').strip(')')\n",
    "    else: \n",
    "        found = 0\n",
    "    return int(found)"
   ]
  },
  {
   "cell_type": "code",
   "execution_count": 6,
   "metadata": {},
   "outputs": [
    {
     "name": "stdout",
     "output_type": "stream",
     "text": [
      "CPU times: user 760 ms, sys: 3.74 ms, total: 763 ms\n",
      "Wall time: 762 ms\n"
     ]
    }
   ],
   "source": [
    "%%time\n",
    "\n",
    "df_movies_final['year'] = df_movies_final.apply(lambda x: get_year(x['title']), axis=1)\n",
    "\n",
    "genres_list = [\n",
    "  \"Action\",\n",
    "  \"Adventure\",\n",
    "  \"Animation\",\n",
    "  \"Children\",\n",
    "  \"Comedy\",\n",
    "  \"Crime\",\n",
    "  \"Documentary\",\n",
    "  \"Drama\",\n",
    "  \"Fantasy\",\n",
    "  \"Film-Noir\",\n",
    "  \"Horror\",\n",
    "  \"Musical\",\n",
    "  \"Mystery\",\n",
    "  \"Romance\",\n",
    "  \"Sci-Fi\",\n",
    "  \"Thriller\",\n",
    "  \"War\",\n",
    "  \"Western\",\n",
    "  \"(no genres listed)\"\n",
    "]"
   ]
  },
  {
   "cell_type": "code",
   "execution_count": 7,
   "metadata": {},
   "outputs": [],
   "source": [
    "def set_genres_matrix(genres):\n",
    "    movie_genres_matrix = []\n",
    "    movie_genres_list = genres.split('|')\n",
    "    for x in genres_list:\n",
    "        if (x in movie_genres_list):\n",
    "            movie_genres_matrix.append(1)\n",
    "        else:\n",
    "            movie_genres_matrix.append(0) \n",
    "    return movie_genres_matrix"
   ]
  },
  {
   "cell_type": "code",
   "execution_count": 8,
   "metadata": {},
   "outputs": [
    {
     "name": "stdout",
     "output_type": "stream",
     "text": [
      "CPU times: user 5.08 s, sys: 26.6 ms, total: 5.1 s\n",
      "Wall time: 5.1 s\n"
     ]
    }
   ],
   "source": [
    "%%time \n",
    "\n",
    "df_movies_final['genres_matrix'] = df_movies_final.apply(lambda x: np.array(list(set_genres_matrix(x['genres']))), axis=1)"
   ]
  },
  {
   "cell_type": "code",
   "execution_count": 9,
   "metadata": {},
   "outputs": [],
   "source": [
    "def set_rating_group(number_of_ratings):\n",
    "    if (number_of_ratings is None): return 0\n",
    "    if (1 <= number_of_ratings <= 10): return 1\n",
    "    elif (11 <= number_of_ratings <= 30): return 2\n",
    "    elif (31 <= number_of_ratings <= 100): return 3\n",
    "    elif (101 <= number_of_ratings <= 300): return 4\n",
    "    elif (301 <= number_of_ratings <= 1000): return 5\n",
    "    elif (1001 <= number_of_ratings): return 6\n",
    "    else: return 0"
   ]
  },
  {
   "cell_type": "code",
   "execution_count": 10,
   "metadata": {},
   "outputs": [
    {
     "name": "stdout",
     "output_type": "stream",
     "text": [
      "CPU times: user 574 ms, sys: 134 µs, total: 575 ms\n",
      "Wall time: 573 ms\n"
     ]
    }
   ],
   "source": [
    "%%time\n",
    "\n",
    "df_movies_final['rating_group'] = df_movies_final.apply(lambda x: set_rating_group(x['rating_count']), axis=1)\n",
    "df_movies_final.fillna(0, inplace=True) "
   ]
  },
  {
   "cell_type": "code",
   "execution_count": 11,
   "metadata": {},
   "outputs": [],
   "source": [
    "stop_words = ['a', 'about', 'above', 'above', 'across', 'after', 'afterwards', 'again', 'against', 'all', 'almost', \n",
    "        'alone', 'along', 'already', 'also','although','always','am','among', 'amongst', 'amoungst', 'amount',  'an', 'and', \n",
    "        'another', 'any','anyhow','anyone','anything','anyway', 'anywhere', 'are', 'around', 'as',  'at', 'back','be','became', \n",
    "        'because','become','becomes', 'becoming', 'been', 'before', 'beforehand', 'behind', 'being', 'below', 'beside', 'besides', \n",
    "        'between', 'beyond', 'bill', 'both', 'bottom','but', 'by', 'call', 'can', 'cannot', 'cant', 'co', 'con', 'could', 'couldnt', \n",
    "        'cry', 'de', 'describe', 'detail', 'do', 'done', 'down', 'due', 'during', 'each', 'eg', 'eight', 'either', 'eleven','else', \n",
    "        'elsewhere', 'empty', 'enough', 'etc', 'even', 'ever', 'every', 'everyone', 'everything', 'everywhere', 'except', 'few', 'fifteen', \n",
    "        'fify', 'fill', 'find', 'fire', 'first', 'five', 'for', 'former', 'formerly', 'forty', 'found', 'four', 'from', 'front', 'full', \n",
    "        'further', 'get', 'give', 'go', 'had', 'has', 'hasnt', 'have', 'he', 'hence', 'her', 'here', 'hereafter', 'hereby', 'herein', 'hereupon', \n",
    "        'hers', 'herself', 'him', 'himself', 'his', 'how', 'however', 'hundred', 'ie', 'if', 'in', 'inc', 'indeed', 'interest', 'into', 'is', 'it', \n",
    "        'its', 'itself', 'keep', 'last', 'latter', 'latterly', 'least', 'less', 'ltd', 'made', 'many', 'may', 'me', 'meanwhile', 'might', 'mill', \n",
    "        'mine', 'more', 'moreover', 'most', 'mostly', 'move', 'much', 'must', 'my', 'myself', 'name', 'namely', 'neither', 'never', 'nevertheless',\n",
    "        'next', 'nine', 'no', 'nobody', 'none', 'noone', 'nor', 'not', 'nothing', 'now', 'nowhere', 'of', 'off', 'often', 'on', 'once', 'one', \n",
    "        'only', 'onto', 'or', 'other', 'others', 'otherwise', 'our', 'ours', 'ourselves', 'out', 'over', 'own','part', 'per', 'perhaps', 'please', \n",
    "        'put', 'rather', 're', 'same', 'see', 'seem', 'seemed', 'seeming', 'seems', 'serious', 'several', 'she', 'should', 'show', 'side', 'since', \n",
    "        'sincere', 'six', 'sixty', 'so', 'some', 'somehow', 'someone', 'something', 'sometime', 'sometimes', 'somewhere', 'still', 'such', 'system', \n",
    "        'take', 'ten', 'than', 'that', 'the', 'their', 'them', 'themselves', 'then', 'thence', 'there', 'thereafter', 'thereby', 'therefore', 'therein', \n",
    "        'thereupon', 'these', 'they', 'thickv', 'thin', 'third', 'this', 'those', 'though', 'three', 'through', 'throughout', 'thru', 'thus', 'to', \n",
    "        'together', 'too', 'top', 'toward', 'towards', 'twelve', 'twenty', 'two', 'un', 'under', 'until', 'up', 'upon', 'us', 'very', 'via', 'was', \n",
    "        'we', 'well', 'were', 'what', 'whatever', 'when', 'whence', 'whenever', 'where', 'whereafter', 'whereas', 'whereby', 'wherein', 'whereupon', \n",
    "        'wherever', 'whether', 'which', 'while', 'whither', 'who', 'whoever', 'whole', 'whom', 'whose', 'why', 'will', 'with', 'within', 'without', 'would', \n",
    "        'yet', 'you', 'your', 'yours', 'yourself', 'yourselves', 'the']"
   ]
  },
  {
   "cell_type": "code",
   "execution_count": 12,
   "metadata": {},
   "outputs": [
    {
     "name": "stdout",
     "output_type": "stream",
     "text": [
      "CPU times: user 1min 40s, sys: 286 ms, total: 1min 40s\n",
      "Wall time: 1min 40s\n"
     ]
    }
   ],
   "source": [
    "%%time \n",
    "\n",
    "tags_dict = {}\n",
    "for index, x in df_tags.iterrows():\n",
    "    word_list = str(x['tag']).lower().split(' ')\n",
    "    movieId = x['movieId']\n",
    "    for y in word_list:\n",
    "        if y not in stop_words:\n",
    "            if movieId in tags_dict:\n",
    "                # if y not in tagsDict[movieId]:  # Switched off (we will get a non unique list)\n",
    "                    tags_dict[movieId].append(y)\n",
    "            else:\n",
    "                tags_dict[movieId] = [y]\n",
    "\n",
    "#df_tags.apply(lambda x: str(x['tag']).split(' '), axis=1)"
   ]
  },
  {
   "cell_type": "code",
   "execution_count": 13,
   "metadata": {},
   "outputs": [
    {
     "data": {
      "text/html": [
       "<div>\n",
       "<style scoped>\n",
       "    .dataframe tbody tr th:only-of-type {\n",
       "        vertical-align: middle;\n",
       "    }\n",
       "\n",
       "    .dataframe tbody tr th {\n",
       "        vertical-align: top;\n",
       "    }\n",
       "\n",
       "    .dataframe thead th {\n",
       "        text-align: right;\n",
       "    }\n",
       "</style>\n",
       "<table border=\"1\" class=\"dataframe\">\n",
       "  <thead>\n",
       "    <tr style=\"text-align: right;\">\n",
       "      <th></th>\n",
       "      <th>userId</th>\n",
       "      <th>movieId</th>\n",
       "      <th>tag</th>\n",
       "      <th>timestamp</th>\n",
       "    </tr>\n",
       "  </thead>\n",
       "  <tbody>\n",
       "    <tr>\n",
       "      <th>0</th>\n",
       "      <td>18</td>\n",
       "      <td>4141</td>\n",
       "      <td>Mark Waters</td>\n",
       "      <td>1240597180</td>\n",
       "    </tr>\n",
       "    <tr>\n",
       "      <th>1</th>\n",
       "      <td>65</td>\n",
       "      <td>208</td>\n",
       "      <td>dark hero</td>\n",
       "      <td>1368150078</td>\n",
       "    </tr>\n",
       "    <tr>\n",
       "      <th>2</th>\n",
       "      <td>65</td>\n",
       "      <td>353</td>\n",
       "      <td>dark hero</td>\n",
       "      <td>1368150079</td>\n",
       "    </tr>\n",
       "    <tr>\n",
       "      <th>3</th>\n",
       "      <td>65</td>\n",
       "      <td>521</td>\n",
       "      <td>noir thriller</td>\n",
       "      <td>1368149983</td>\n",
       "    </tr>\n",
       "    <tr>\n",
       "      <th>4</th>\n",
       "      <td>65</td>\n",
       "      <td>592</td>\n",
       "      <td>dark hero</td>\n",
       "      <td>1368150078</td>\n",
       "    </tr>\n",
       "  </tbody>\n",
       "</table>\n",
       "</div>"
      ],
      "text/plain": [
       "   userId  movieId            tag   timestamp\n",
       "0      18     4141    Mark Waters  1240597180\n",
       "1      65      208      dark hero  1368150078\n",
       "2      65      353      dark hero  1368150079\n",
       "3      65      521  noir thriller  1368149983\n",
       "4      65      592      dark hero  1368150078"
      ]
     },
     "execution_count": 13,
     "metadata": {},
     "output_type": "execute_result"
    }
   ],
   "source": [
    "df_tags.head()"
   ]
  },
  {
   "cell_type": "code",
   "execution_count": 14,
   "metadata": {},
   "outputs": [
    {
     "name": "stdout",
     "output_type": "stream",
     "text": [
      "CPU times: user 6.84 s, sys: 16 ms, total: 6.85 s\n",
      "Wall time: 6.86 s\n"
     ]
    }
   ],
   "source": [
    "%%time\n",
    "\n",
    "title_words_dict = {}\n",
    "for index, x in df_movies.iterrows():\n",
    "    word_list = str(x['title']).lower().split(' ')\n",
    "    movieId = x['movieId']\n",
    "    for y in word_list:\n",
    "        if y not in stop_words:\n",
    "            if movieId in title_words_dict:\n",
    "                title_words_dict[movieId].append(y)\n",
    "            else:\n",
    "                title_words_dict[movieId] = [y]"
   ]
  },
  {
   "cell_type": "code",
   "execution_count": 15,
   "metadata": {},
   "outputs": [],
   "source": [
    "genresSimilarityWeight = 0.8\n",
    "tagsSimilarityWeight = 2\n",
    "titleSimilarityWeight = 1\n",
    "ratingAvgWeight = 0.2\n",
    "ratingGroupWeight = 0.005\n",
    "yearDistanceWeight = 0.1"
   ]
  },
  {
   "cell_type": "code",
   "execution_count": 16,
   "metadata": {},
   "outputs": [],
   "source": [
    "def tags_similarity(basisMovieID, checkedMovieID, checkType):    \n",
    "    \n",
    "    if checkType == 'tag':\n",
    "        dictToCheck = tags_dict\n",
    "    else:\n",
    "        dictToCheck = title_words_dict\n",
    "        \n",
    "    counter = 0\n",
    "    if basisMovieID in dictToCheck: \n",
    "        basisTags = dictToCheck[basisMovieID]\n",
    "        countAllTags = len(basisTags)\n",
    "        basisTagsDict = {}\n",
    "        for x in basisTags:\n",
    "            if x in basisTagsDict:\n",
    "                basisTagsDict[x] += 1\n",
    "            else:\n",
    "                basisTagsDict[x] = 1   \n",
    "        \n",
    "        for x in basisTagsDict:\n",
    "            basisTagsDict[x] = basisTagsDict[x] / countAllTags\n",
    "    else: return 0\n",
    "    \n",
    "    if checkedMovieID in dictToCheck: \n",
    "        checkedTags = dictToCheck[checkedMovieID]\n",
    "        checkedTags = set(checkedTags) # Make the list unique\n",
    "        checkedTags = list(checkedTags)\n",
    "        \n",
    "    else: return 0\n",
    "    \n",
    "    for x in basisTagsDict:\n",
    "        if x in checkedTags: counter += basisTagsDict[x]\n",
    "    return counter"
   ]
  },
  {
   "cell_type": "code",
   "execution_count": 17,
   "metadata": {},
   "outputs": [],
   "source": [
    "def check_similarity(movieId):\n",
    "    \n",
    "    print(\"Estoy buscando peliculas similares a:\")\n",
    "    print (df_movies_final[df_movies_final['movieId'] == movieId][['title', 'rating_count', 'rating_avg']])\n",
    "    basisGenres = np.array(list(df_movies_final[df_movies_final['movieId'] == movieId]['genres_matrix']))\n",
    "    basisYear = int(df_movies_final[df_movies_final['movieId'] == movieId]['year'])\n",
    "    basisRatingAvg = df_movies_final[df_movies_final['movieId'] == movieId]['rating_avg']\n",
    "    basisRatingGroup = df_movies_final[df_movies_final['movieId'] == movieId]['rating_group']\n",
    "    \n",
    "    moviesWithSim = df_movies_final\n",
    "    moviesWithSim['similarity'] = moviesWithSim.apply(lambda x: \n",
    "                                                      spatial.distance.cosine(x['genres_matrix'], basisGenres) * genresSimilarityWeight + \n",
    "                                                      - tags_similarity(movieId, x['movieId'], 'tag') * tagsSimilarityWeight +\n",
    "                                                      - tags_similarity(movieId, x['movieId'], 'title') * titleSimilarityWeight +\n",
    "                                                      abs(basisRatingAvg - x['rating_avg']) * ratingAvgWeight +\n",
    "                                                      abs(basisRatingGroup - x['rating_group']) * ratingGroupWeight + \n",
    "                                                      abs(basisYear - x['year'])/100 * yearDistanceWeight\n",
    "                                                     , axis=1)\n",
    "    \n",
    "    moviesWithSim = moviesWithSim.loc[(moviesWithSim.movieId != movieId)]\n",
    "    return moviesWithSim[['movieId', 'title', 'genres', 'rating_count', 'rating_avg', 'similarity']].sort_values('similarity')\n"
   ]
  },
  {
   "cell_type": "code",
   "execution_count": 56,
   "metadata": {},
   "outputs": [
    {
     "name": "stdout",
     "output_type": "stream",
     "text": [
      "Enter a movie: Toy Story\n"
     ]
    }
   ],
   "source": [
    "movie_user_wants = input('Enter a movie: ')"
   ]
  },
  {
   "cell_type": "code",
   "execution_count": 57,
   "metadata": {},
   "outputs": [],
   "source": [
    "def movie(x):\n",
    "    movies = list(df_movies_final['title'])\n",
    "    for movie in movies:\n",
    "        if fuzz.partial_ratio(x,movie) > 90:\n",
    "            x = movie\n",
    "            return x\n",
    "        else:\n",
    "            x = 'Nada'\n",
    "            return x"
   ]
  },
  {
   "cell_type": "code",
   "execution_count": 58,
   "metadata": {},
   "outputs": [
    {
     "name": "stdout",
     "output_type": "stream",
     "text": [
      "Estoy buscando peliculas similares a:\n",
      "              title  rating_count  rating_avg\n",
      "0  Toy Story (1995)        2569.0    3.959323\n",
      "-//----------------------------------------------PELICULA ELEGIDA---------------------------------------------------//-\n",
      "\n",
      "Toy Story (1995)\n",
      "-//------------------------------------------PELICULAS RECOMENDADAS-------------------------------------------------//-\n",
      "\n",
      "       movieId                  title  \\\n",
      "3027      3114     Toy Story 2 (1999)   \n",
      "15401    78499     Toy Story 3 (2010)   \n",
      "4790      4886  Monsters, Inc. (2001)   \n",
      "4211      4306           Shrek (2001)   \n",
      "6271      6377    Finding Nemo (2003)   \n",
      "\n",
      "                                                  genres  rating_count  \\\n",
      "3027         Adventure|Animation|Children|Comedy|Fantasy        1180.0   \n",
      "15401   Adventure|Animation|Children|Comedy|Fantasy|IMAX         306.0   \n",
      "4790         Adventure|Animation|Children|Comedy|Fantasy        1256.0   \n",
      "4211   Adventure|Animation|Children|Comedy|Fantasy|Ro...        1696.0   \n",
      "6271                 Adventure|Animation|Children|Comedy        1224.0   \n",
      "\n",
      "       rating_avg  similarity  \n",
      "3027     3.854237   -2.083255  \n",
      "15401    4.042484   -1.856312  \n",
      "4790     3.865844   -1.135888  \n",
      "4211     3.829894   -1.124688  \n",
      "6271     3.863562   -1.041674  \n",
      "CPU times: user 1min 17s, sys: 385 ms, total: 1min 17s\n",
      "Wall time: 1min 17s\n"
     ]
    }
   ],
   "source": [
    "%%time \n",
    "\n",
    "if movie(movie_user_wants) != 'Nada':\n",
    "    result = df_movies_final.loc[df_movies_final['title'] == movie(movie_user_wants)]\n",
    "    movie__id__= int(result['movieId'])\n",
    "    similarityResult1  = check_similarity(movie__id__)\n",
    "    print('-//----------------------------------------------PELICULA ELEGIDA---------------------------------------------------//-'+'\\n')\n",
    "    print(movie(movie_user_wants))\n",
    "    print('-//------------------------------------------PELICULAS RECOMENDADAS-------------------------------------------------//-'+'\\n')\n",
    "    print(similarityResult1.head())\n",
    "else: \n",
    "    print('No se ha encontrado película')"
   ]
  },
  {
   "cell_type": "code",
   "execution_count": null,
   "metadata": {},
   "outputs": [],
   "source": []
  },
  {
   "cell_type": "code",
   "execution_count": null,
   "metadata": {},
   "outputs": [],
   "source": []
  },
  {
   "cell_type": "code",
   "execution_count": null,
   "metadata": {},
   "outputs": [],
   "source": []
  }
 ],
 "metadata": {
  "kernelspec": {
   "display_name": "Python 3",
   "language": "python",
   "name": "python3"
  },
  "language_info": {
   "codemirror_mode": {
    "name": "ipython",
    "version": 3
   },
   "file_extension": ".py",
   "mimetype": "text/x-python",
   "name": "python",
   "nbconvert_exporter": "python",
   "pygments_lexer": "ipython3",
   "version": "3.7.3"
  }
 },
 "nbformat": 4,
 "nbformat_minor": 2
}
